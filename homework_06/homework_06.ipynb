{
 "cells": [
  {
   "cell_type": "code",
   "execution_count": null,
   "id": "initial_id",
   "metadata": {
    "collapsed": true
   },
   "outputs": [],
   "source": [
    "# Задача 1\n",
    "def share_bread(N, K):\n",
    "    x = K // N\n",
    "    y = K % N\n",
    "    return x, y\n",
    "\n",
    "assert share_bread(N=3, K=14) == (4, 2)"
   ]
  },
  {
   "metadata": {},
   "cell_type": "markdown",
   "source": "",
   "id": "e20f1ff7fa9df5af"
  },
  {
   "metadata": {},
   "cell_type": "code",
   "outputs": [],
   "execution_count": null,
   "source": [
    "def leap_year(year):\n",
    "    if (year % 4 == 0 and year % 100 != 0) or (year % 400 == 0):\n",
    "        return 'YOU SHALL PASS'\n",
    "    else:\n",
    "        return 'YOU SHALL NOT PASS'\n",
    "\n",
    "assert leap_year(5) == 'YOU SHALL NOT PASS'"
   ],
   "id": "57071f573629fa40"
  },
  {
   "metadata": {},
   "cell_type": "markdown",
   "source": "",
   "id": "f10bb459efcc8f43"
  },
  {
   "metadata": {},
   "cell_type": "code",
   "outputs": [],
   "execution_count": null,
   "source": [
    "def amulet_area(a, b, c):\n",
    "    p = (a + b + c) / 2\n",
    "    S = (p * (p - a) * (p - b) * (p - c)) ** 0.5\n",
    "    return S\n",
    "\n",
    "assert amulet_area(3, 4, 5) == 6"
   ],
   "id": "fc071622251919a3"
  },
  {
   "metadata": {},
   "cell_type": "markdown",
   "source": "",
   "id": "921f27c22b63db23"
  },
  {
   "metadata": {},
   "cell_type": "code",
   "outputs": [],
   "execution_count": null,
   "source": [
    "import numpy as np\n",
    "\n",
    "def cal_euclidean(a, b):\n",
    "    return sum((ai - bi) ** 2 for ai, bi in zip(a, b)) ** 0.5\n",
    "\n",
    "def cal_manhattan(a, b):\n",
    "    return sum(abs(ai - bi) for ai, bi in zip(a, b))\n",
    "\n",
    "def cal_cosine(a, b):\n",
    "    dot = sum(ai * bi for ai, bi in zip(a, b))\n",
    "    norm_a = sum(ai ** 2 for ai in a) ** 0.5\n",
    "    norm_b = sum(bi ** 2 for bi in b) ** 0.5\n",
    "    return 1 - dot / (norm_a * norm_b)\n",
    "\n",
    "a = np.random.randint(-10, 10, size=10)\n",
    "b = np.random.randint(-10, 10, size=10)\n",
    "print(cal_euclidean(a, b))\n",
    "print(cal_manhattan(a, b))\n",
    "print(cal_cosine(a, b))"
   ],
   "id": "eebcb9a92f5c493e"
  },
  {
   "metadata": {},
   "cell_type": "markdown",
   "source": "",
   "id": "e19e7c51aae2f647"
  },
  {
   "metadata": {},
   "cell_type": "code",
   "outputs": [],
   "execution_count": null,
   "source": [
    "# 5.1 Максимум — 1, минимум — 0\n",
    "my_array = np.random.rand(100)\n",
    "my_array[my_array.argmax()] = 1\n",
    "my_array[my_array.argmin()] = 0\n",
    "print(np.max(my_array), np.min(my_array))\n",
    "print(my_array)\n",
    "\n",
    "# 5.2 Столбец с максимальным элементом матрицы\n",
    "my_array = np.random.randint(0, 51, size=(6, 7))\n",
    "max_col_index = np.unravel_index(my_array.argmax(), my_array.shape)[1]\n",
    "selected_column = my_array[:, max_col_index]\n",
    "print('Shape: ', my_array.shape)\n",
    "print('Array')\n",
    "print(my_array)\n",
    "print(selected_column)\n",
    "\n",
    "# 5.3 Уникальные строки матрицы\n",
    "def get_unique_rows(X):\n",
    "    return np.unique(X, axis=0)\n",
    "\n",
    "X = np.random.randint(4, 6, size=(10, 3))\n",
    "print(X)\n",
    "print(get_unique_rows(X))\n"
   ],
   "id": "5acfdc6c497de190"
  }
 ],
 "metadata": {
  "kernelspec": {
   "display_name": "Python 3",
   "language": "python",
   "name": "python3"
  },
  "language_info": {
   "codemirror_mode": {
    "name": "ipython",
    "version": 2
   },
   "file_extension": ".py",
   "mimetype": "text/x-python",
   "name": "python",
   "nbconvert_exporter": "python",
   "pygments_lexer": "ipython2",
   "version": "2.7.6"
  }
 },
 "nbformat": 4,
 "nbformat_minor": 5
}
